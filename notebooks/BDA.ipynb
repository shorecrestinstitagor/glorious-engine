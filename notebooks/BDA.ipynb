{
 "cells": [
  {
   "cell_type": "code",
   "execution_count": 8,
   "metadata": {},
   "outputs": [],
   "source": [
    "import pandas as pd"
   ]
  },
  {
   "cell_type": "code",
   "execution_count": 9,
   "metadata": {},
   "outputs": [
    {
     "name": "stdout",
     "output_type": "stream",
     "text": [
      "    year  population\n",
      "0   2000       12400\n",
      "1   2001       12800\n",
      "2   2002       13800\n",
      "3   2003       13600\n",
      "4   2004       14200\n",
      "5   2005       15600\n",
      "6   2006       17600\n",
      "7   2007       19200\n",
      "8   2008       20300\n",
      "9   2009       20800\n",
      "10  2010       21200\n",
      "11  2011       22400\n",
      "12  2012       23400\n",
      "13  2013       24500\n",
      "14  2014       25800\n",
      "15  2015       26100\n",
      "16  2016       28300\n",
      "17  2017       29600\n",
      "18  2018       32100\n",
      "19  2019       32500\n",
      "20  2020       33200\n",
      "21  2021       33800\n"
     ]
    }
   ],
   "source": [
    "data = pd.read_csv(\"/workspaces/codespaces-jupyter/data/atlantis.csv\")\n",
    "print(data)"
   ]
  }
 ],
 "metadata": {
  "kernelspec": {
   "display_name": "Python 3",
   "language": "python",
   "name": "python3"
  },
  "language_info": {
   "codemirror_mode": {
    "name": "ipython",
    "version": 3
   },
   "file_extension": ".py",
   "mimetype": "text/x-python",
   "name": "python",
   "nbconvert_exporter": "python",
   "pygments_lexer": "ipython3",
   "version": "3.12.1"
  }
 },
 "nbformat": 4,
 "nbformat_minor": 2
}
